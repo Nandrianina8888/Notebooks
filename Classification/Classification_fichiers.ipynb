{
  "nbformat": 4,
  "nbformat_minor": 0,
  "metadata": {
    "colab": {
      "name": "Classification fichiers.ipynb",
      "provenance": [],
      "mount_file_id": "1OeGSH6kaQNQBzUjfDxGopiSLd8f8om3X",
      "authorship_tag": "ABX9TyOCb+DK0tVdazbJyYqk6F/Y",
      "include_colab_link": true
    },
    "kernelspec": {
      "name": "python3",
      "display_name": "Python 3"
    },
    "language_info": {
      "name": "python"
    }
  },
  "cells": [
    {
      "cell_type": "markdown",
      "metadata": {
        "id": "view-in-github",
        "colab_type": "text"
      },
      "source": [
        "<a href=\"https://colab.research.google.com/github/Nandrianina8888/Notebooks/blob/main/Classification/Classification_fichiers.ipynb\" target=\"_parent\"><img src=\"https://colab.research.google.com/assets/colab-badge.svg\" alt=\"Open In Colab\"/></a>"
      ]
    },
    {
      "cell_type": "code",
      "execution_count": 5,
      "metadata": {
        "id": "-V_Q8kSxpFrX"
      },
      "outputs": [],
      "source": [
        "from pathlib import Path"
      ]
    },
    {
      "cell_type": "code",
      "source": [
        "X, E = {}, []\n",
        "for i in Path(\".\").rglob('*'):\n",
        "  try:\n",
        "    X.setdefault(i, i.stat())\n",
        "  except Exception:\n",
        "    E.append(i)"
      ],
      "metadata": {
        "id": "L93WkIQjpxGx"
      },
      "execution_count": 7,
      "outputs": []
    },
    {
      "cell_type": "code",
      "source": [
        "whos"
      ],
      "metadata": {
        "colab": {
          "base_uri": "https://localhost:8080/"
        },
        "id": "EVY_MNcWqBrh",
        "outputId": "37277e23-0d11-492b-f432-7a95eb0f9b7a"
      },
      "execution_count": 9,
      "outputs": [
        {
          "output_type": "stream",
          "name": "stdout",
          "text": [
            "Variable   Type         Data/Info\n",
            "---------------------------------\n",
            "E          list         n=21\n",
            "Path       type         <class 'pathlib.Path'>\n",
            "X          dict         n=459\n",
            "i          PosixPath    CNAM/Sec108/Ressources /W<...>ivileges in 5 Minutes.pdf\n"
          ]
        }
      ]
    },
    {
      "cell_type": "code",
      "source": [
        "E"
      ],
      "metadata": {
        "colab": {
          "base_uri": "https://localhost:8080/"
        },
        "id": "DwAwJjPzqLFg",
        "outputId": "fabea96d-6430-4bf3-896a-ace7dc247ced"
      },
      "execution_count": 10,
      "outputs": [
        {
          "output_type": "execute_result",
          "data": {
            "text/plain": [
              "[PosixPath('Temporaire /Violent Python - A Cookbook for Hackers, Forensic Analysts, Penetration Testers and Security Engineers.pdf'),\n",
              " PosixPath('Temporaire /Defensive Security Handbook - Best Practices For Securing Infrastructures.azw3'),\n",
              " PosixPath('Temporaire /RTFM - Red Team Field Manual.pdf'),\n",
              " PosixPath('Temporaire /Hacking - The Art of Explotation.pdf'),\n",
              " PosixPath('Temporaire /Black Hat Python.epub'),\n",
              " PosixPath(\"Temporaire /Advanced Penetration Testing - Hacking the World's Most Secure Networks.epub\"),\n",
              " PosixPath('Temporaire /The Hacker Playbook 2 - Practical Guide To Penetration Testing.epub'),\n",
              " PosixPath('Temporaire /Hash Crack - Password Cracking Manual.azw3'),\n",
              " PosixPath(\"Temporaire /The Shellcoders's Handbook - Discovering and Exploiting Security Holes.pdf\"),\n",
              " PosixPath('Temporaire /livreblancmarketingcomportemental-[www.worldmediafiles.com].pdf'),\n",
              " PosixPath('Temporaire /Stat_s app.zip'),\n",
              " PosixPath('Temporaire /COURS 2.pdf'),\n",
              " PosixPath('Temporaire /Proba - S5.pdf'),\n",
              " PosixPath('Temporaire /Proba-Stat.pdf'),\n",
              " PosixPath('Temporaire /exos-corriges-var-alea-1.pdf'),\n",
              " PosixPath('Temporaire /COURS 3.pdf'),\n",
              " PosixPath('Temporaire /COURS 5.pdf'),\n",
              " PosixPath('Temporaire /COURS 1.doc'),\n",
              " PosixPath('Temporaire /Excercices+-+Lois+usuelles.pdf'),\n",
              " PosixPath('Temporaire /Analyse de données cours.docx'),\n",
              " PosixPath('Temporaire /ADD intro et chapitre premier .pdf')]"
            ]
          },
          "metadata": {},
          "execution_count": 10
        }
      ]
    },
    {
      "cell_type": "code",
      "source": [
        "import pickle\n",
        "with open(\"sauvegarde/18-08-2022 liste des fichiers.pkl\", mode='wb') as write:\n",
        "  pickle.dump(X, write)"
      ],
      "metadata": {
        "id": "K9PeYp0QqMWf"
      },
      "execution_count": 15,
      "outputs": []
    }
  ]
}